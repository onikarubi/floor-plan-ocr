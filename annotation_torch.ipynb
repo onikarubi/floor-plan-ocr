{
 "cells": [
  {
   "cell_type": "code",
   "execution_count": 1,
   "metadata": {},
   "outputs": [],
   "source": [
    "class_names = [\"床面\", \"椅子\", \"収納\", \"玄関\", \"浴槽\", \"洗面台\"]\n",
    "\n",
    "class_labels = {i: class_name for i, class_name in enumerate(class_names)}\n",
    "class_ids = [i for i in range(len(class_names))]\n",
    "\n",
    "\n",
    "def get_class_key(class_name):\n",
    "    return class_names.index(class_name)\n",
    "\n",
    "\n",
    "def get_class_name(class_key):\n",
    "    return class_names[class_key]"
   ]
  },
  {
   "cell_type": "code",
   "execution_count": 2,
   "metadata": {},
   "outputs": [],
   "source": [
    "import json\n",
    "import os\n",
    "\n",
    "image_dir = \"dataset/Set_A_02/images\"\n",
    "images = [file for file in os.listdir(image_dir) if file.endswith(\".jpg\")]\n",
    "annotation_dir = \"dataset/annotations/\"\n",
    "annotations = [file for file in os.listdir(annotation_dir) if file.endswith(\".json\")]"
   ]
  },
  {
   "cell_type": "code",
   "execution_count": 27,
   "metadata": {},
   "outputs": [],
   "source": [
    "from PIL import Image, ImageDraw\n",
    "\n",
    "\n",
    "def draw_polygons(image_size, annotations):\n",
    "    \"\"\"\n",
    "    指定されたアノテーションデータに基づいて、画像上にポリゴンを描画します。\n",
    "    Args:\n",
    "    - image_size (tuple): 画像のサイズ（幅、高さ）\n",
    "    - annotations (list of dicts): 各辞書には 'all_points_x' と 'all_points_y' のリストが含まれる\n",
    "\n",
    "    Returns:\n",
    "    - PIL.Image: ポリゴンが描画された画像\n",
    "    \"\"\"\n",
    "    # 新しい白背景の画像を生成\n",
    "    image = Image.new(\"RGB\", image_size, \"white\")\n",
    "    draw = ImageDraw.Draw(image)\n",
    "\n",
    "    # アノテーションのリストをループし、ポリゴンを描画\n",
    "    for annotation in annotations:\n",
    "        shape_attr = annotation[\"shape_attributes\"]\n",
    "        # X座標とY座標のリストからタプルのリスト（頂点のリスト）を作成\n",
    "        points = list(zip(shape_attr[\"all_points_x\"], shape_attr[\"all_points_y\"]))\n",
    "        # ポリゴンを描画（黒色で塗りつぶし）\n",
    "        draw.polygon(points, fill=\"black\")\n",
    "\n",
    "        label = annotation['region_attributes']['floor_label']\n",
    "\n",
    "        draw.text(points[0], label, fill=\"red\")\n",
    "\n",
    "    return image"
   ]
  },
  {
   "cell_type": "code",
   "execution_count": 28,
   "metadata": {},
   "outputs": [
    {
     "ename": "UnicodeEncodeError",
     "evalue": "'latin-1' codec can't encode characters in position 0-1: ordinal not in range(256)",
     "output_type": "error",
     "traceback": [
      "\u001b[0;31m---------------------------------------------------------------------------\u001b[0m",
      "\u001b[0;31mAttributeError\u001b[0m                            Traceback (most recent call last)",
      "File \u001b[0;32m~/.local/lib/python3.10/site-packages/PIL/ImageDraw.py:463\u001b[0m, in \u001b[0;36mImageDraw.text.<locals>.draw_text\u001b[0;34m(ink, stroke_width, stroke_offset)\u001b[0m\n\u001b[1;32m    462\u001b[0m \u001b[38;5;28;01mtry\u001b[39;00m:\n\u001b[0;32m--> 463\u001b[0m     mask, offset \u001b[38;5;241m=\u001b[39m \u001b[43mfont\u001b[49m\u001b[38;5;241;43m.\u001b[39;49m\u001b[43mgetmask2\u001b[49m(\n\u001b[1;32m    464\u001b[0m         text,\n\u001b[1;32m    465\u001b[0m         mode,\n\u001b[1;32m    466\u001b[0m         direction\u001b[38;5;241m=\u001b[39mdirection,\n\u001b[1;32m    467\u001b[0m         features\u001b[38;5;241m=\u001b[39mfeatures,\n\u001b[1;32m    468\u001b[0m         language\u001b[38;5;241m=\u001b[39mlanguage,\n\u001b[1;32m    469\u001b[0m         stroke_width\u001b[38;5;241m=\u001b[39mstroke_width,\n\u001b[1;32m    470\u001b[0m         anchor\u001b[38;5;241m=\u001b[39manchor,\n\u001b[1;32m    471\u001b[0m         ink\u001b[38;5;241m=\u001b[39mink,\n\u001b[1;32m    472\u001b[0m         start\u001b[38;5;241m=\u001b[39mstart,\n\u001b[1;32m    473\u001b[0m         \u001b[38;5;241m*\u001b[39margs,\n\u001b[1;32m    474\u001b[0m         \u001b[38;5;241m*\u001b[39m\u001b[38;5;241m*\u001b[39mkwargs,\n\u001b[1;32m    475\u001b[0m     )\n\u001b[1;32m    476\u001b[0m     coord \u001b[38;5;241m=\u001b[39m coord[\u001b[38;5;241m0\u001b[39m] \u001b[38;5;241m+\u001b[39m offset[\u001b[38;5;241m0\u001b[39m], coord[\u001b[38;5;241m1\u001b[39m] \u001b[38;5;241m+\u001b[39m offset[\u001b[38;5;241m1\u001b[39m]\n",
      "\u001b[0;31mAttributeError\u001b[0m: 'ImageFont' object has no attribute 'getmask2'",
      "\nDuring handling of the above exception, another exception occurred:\n",
      "\u001b[0;31mUnicodeEncodeError\u001b[0m                        Traceback (most recent call last)",
      "Cell \u001b[0;32mIn[28], line 32\u001b[0m\n\u001b[1;32m     29\u001b[0m image_size \u001b[38;5;241m=\u001b[39m (\u001b[38;5;241m200\u001b[39m, \u001b[38;5;241m300\u001b[39m)  \u001b[38;5;66;03m# これは適宜調整してください\u001b[39;00m\n\u001b[1;32m     31\u001b[0m \u001b[38;5;66;03m# 画像を生成して表示\u001b[39;00m\n\u001b[0;32m---> 32\u001b[0m result_image \u001b[38;5;241m=\u001b[39m \u001b[43mdraw_polygons\u001b[49m\u001b[43m(\u001b[49m\u001b[43mimage_size\u001b[49m\u001b[43m,\u001b[49m\u001b[43m \u001b[49m\u001b[43mannotations\u001b[49m\u001b[43m)\u001b[49m\n\u001b[1;32m     33\u001b[0m result_image\u001b[38;5;241m.\u001b[39mshow()  \u001b[38;5;66;03m# 結果の画像を表示果の画像を表示\u001b[39;00m\n",
      "Cell \u001b[0;32mIn[27], line 28\u001b[0m, in \u001b[0;36mdraw_polygons\u001b[0;34m(image_size, annotations)\u001b[0m\n\u001b[1;32m     24\u001b[0m     draw\u001b[38;5;241m.\u001b[39mpolygon(points, fill\u001b[38;5;241m=\u001b[39m\u001b[38;5;124m\"\u001b[39m\u001b[38;5;124mblack\u001b[39m\u001b[38;5;124m\"\u001b[39m)\n\u001b[1;32m     26\u001b[0m     label \u001b[38;5;241m=\u001b[39m annotation[\u001b[38;5;124m'\u001b[39m\u001b[38;5;124mregion_attributes\u001b[39m\u001b[38;5;124m'\u001b[39m][\u001b[38;5;124m'\u001b[39m\u001b[38;5;124mfloor_label\u001b[39m\u001b[38;5;124m'\u001b[39m]\n\u001b[0;32m---> 28\u001b[0m     \u001b[43mdraw\u001b[49m\u001b[38;5;241;43m.\u001b[39;49m\u001b[43mtext\u001b[49m\u001b[43m(\u001b[49m\u001b[43mpoints\u001b[49m\u001b[43m[\u001b[49m\u001b[38;5;241;43m0\u001b[39;49m\u001b[43m]\u001b[49m\u001b[43m,\u001b[49m\u001b[43m \u001b[49m\u001b[43mlabel\u001b[49m\u001b[43m,\u001b[49m\u001b[43m \u001b[49m\u001b[43mfill\u001b[49m\u001b[38;5;241;43m=\u001b[39;49m\u001b[38;5;124;43m\"\u001b[39;49m\u001b[38;5;124;43mred\u001b[39;49m\u001b[38;5;124;43m\"\u001b[39;49m\u001b[43m)\u001b[49m\n\u001b[1;32m     30\u001b[0m \u001b[38;5;28;01mreturn\u001b[39;00m image\n",
      "File \u001b[0;32m~/.local/lib/python3.10/site-packages/PIL/ImageDraw.py:520\u001b[0m, in \u001b[0;36mImageDraw.text\u001b[0;34m(self, xy, text, fill, font, anchor, spacing, align, direction, features, language, stroke_width, stroke_fill, embedded_color, *args, **kwargs)\u001b[0m\n\u001b[1;32m    517\u001b[0m     draw_text(ink, \u001b[38;5;241m0\u001b[39m)\n\u001b[1;32m    518\u001b[0m \u001b[38;5;28;01melse\u001b[39;00m:\n\u001b[1;32m    519\u001b[0m     \u001b[38;5;66;03m# Only draw normal text\u001b[39;00m\n\u001b[0;32m--> 520\u001b[0m     \u001b[43mdraw_text\u001b[49m\u001b[43m(\u001b[49m\u001b[43mink\u001b[49m\u001b[43m)\u001b[49m\n",
      "File \u001b[0;32m~/.local/lib/python3.10/site-packages/PIL/ImageDraw.py:479\u001b[0m, in \u001b[0;36mImageDraw.text.<locals>.draw_text\u001b[0;34m(ink, stroke_width, stroke_offset)\u001b[0m\n\u001b[1;32m    477\u001b[0m \u001b[38;5;28;01mexcept\u001b[39;00m \u001b[38;5;167;01mAttributeError\u001b[39;00m:\n\u001b[1;32m    478\u001b[0m     \u001b[38;5;28;01mtry\u001b[39;00m:\n\u001b[0;32m--> 479\u001b[0m         mask \u001b[38;5;241m=\u001b[39m \u001b[43mfont\u001b[49m\u001b[38;5;241;43m.\u001b[39;49m\u001b[43mgetmask\u001b[49m\u001b[43m(\u001b[49m\n\u001b[1;32m    480\u001b[0m \u001b[43m            \u001b[49m\u001b[43mtext\u001b[49m\u001b[43m,\u001b[49m\n\u001b[1;32m    481\u001b[0m \u001b[43m            \u001b[49m\u001b[43mmode\u001b[49m\u001b[43m,\u001b[49m\n\u001b[1;32m    482\u001b[0m \u001b[43m            \u001b[49m\u001b[43mdirection\u001b[49m\u001b[43m,\u001b[49m\n\u001b[1;32m    483\u001b[0m \u001b[43m            \u001b[49m\u001b[43mfeatures\u001b[49m\u001b[43m,\u001b[49m\n\u001b[1;32m    484\u001b[0m \u001b[43m            \u001b[49m\u001b[43mlanguage\u001b[49m\u001b[43m,\u001b[49m\n\u001b[1;32m    485\u001b[0m \u001b[43m            \u001b[49m\u001b[43mstroke_width\u001b[49m\u001b[43m,\u001b[49m\n\u001b[1;32m    486\u001b[0m \u001b[43m            \u001b[49m\u001b[43manchor\u001b[49m\u001b[43m,\u001b[49m\n\u001b[1;32m    487\u001b[0m \u001b[43m            \u001b[49m\u001b[43mink\u001b[49m\u001b[43m,\u001b[49m\n\u001b[1;32m    488\u001b[0m \u001b[43m            \u001b[49m\u001b[43mstart\u001b[49m\u001b[38;5;241;43m=\u001b[39;49m\u001b[43mstart\u001b[49m\u001b[43m,\u001b[49m\n\u001b[1;32m    489\u001b[0m \u001b[43m            \u001b[49m\u001b[38;5;241;43m*\u001b[39;49m\u001b[43margs\u001b[49m\u001b[43m,\u001b[49m\n\u001b[1;32m    490\u001b[0m \u001b[43m            \u001b[49m\u001b[38;5;241;43m*\u001b[39;49m\u001b[38;5;241;43m*\u001b[39;49m\u001b[43mkwargs\u001b[49m\u001b[43m,\u001b[49m\n\u001b[1;32m    491\u001b[0m \u001b[43m        \u001b[49m\u001b[43m)\u001b[49m\n\u001b[1;32m    492\u001b[0m     \u001b[38;5;28;01mexcept\u001b[39;00m \u001b[38;5;167;01mTypeError\u001b[39;00m:\n\u001b[1;32m    493\u001b[0m         mask \u001b[38;5;241m=\u001b[39m font\u001b[38;5;241m.\u001b[39mgetmask(text)\n",
      "File \u001b[0;32m~/.local/lib/python3.10/site-packages/PIL/ImageFont.py:179\u001b[0m, in \u001b[0;36mImageFont.getmask\u001b[0;34m(self, text, mode, *args, **kwargs)\u001b[0m\n\u001b[1;32m    161\u001b[0m \u001b[38;5;28;01mdef\u001b[39;00m \u001b[38;5;21mgetmask\u001b[39m(\u001b[38;5;28mself\u001b[39m, text, mode\u001b[38;5;241m=\u001b[39m\u001b[38;5;124m\"\u001b[39m\u001b[38;5;124m\"\u001b[39m, \u001b[38;5;241m*\u001b[39margs, \u001b[38;5;241m*\u001b[39m\u001b[38;5;241m*\u001b[39mkwargs):\n\u001b[1;32m    162\u001b[0m \u001b[38;5;250m    \u001b[39m\u001b[38;5;124;03m\"\"\"\u001b[39;00m\n\u001b[1;32m    163\u001b[0m \u001b[38;5;124;03m    Create a bitmap for the text.\u001b[39;00m\n\u001b[1;32m    164\u001b[0m \n\u001b[0;32m   (...)\u001b[0m\n\u001b[1;32m    177\u001b[0m \u001b[38;5;124;03m             :py:mod:`PIL.Image.core` interface module.\u001b[39;00m\n\u001b[1;32m    178\u001b[0m \u001b[38;5;124;03m    \"\"\"\u001b[39;00m\n\u001b[0;32m--> 179\u001b[0m     \u001b[38;5;28;01mreturn\u001b[39;00m \u001b[38;5;28;43mself\u001b[39;49m\u001b[38;5;241;43m.\u001b[39;49m\u001b[43mfont\u001b[49m\u001b[38;5;241;43m.\u001b[39;49m\u001b[43mgetmask\u001b[49m\u001b[43m(\u001b[49m\u001b[43mtext\u001b[49m\u001b[43m,\u001b[49m\u001b[43m \u001b[49m\u001b[43mmode\u001b[49m\u001b[43m)\u001b[49m\n",
      "\u001b[0;31mUnicodeEncodeError\u001b[0m: 'latin-1' codec can't encode characters in position 0-1: ordinal not in range(256)"
     ]
    }
   ],
   "source": [
    "annotations = [\n",
    "    {\n",
    "        \"shape_attributes\": {\n",
    "            \"name\": \"polyline\",\n",
    "            \"all_points_x\": [14, 14, 102, 105],\n",
    "            \"all_points_y\": [117, 237, 238, 119],\n",
    "        },\n",
    "        \"region_attributes\": {\n",
    "            \"floor_label\": \"洋室6帖\",\n",
    "            \"class\": \"床面\",\n",
    "            \"description\": \"洋室\",\n",
    "        },\n",
    "    },\n",
    "    {\n",
    "        \"shape_attributes\": {\n",
    "            \"name\": \"polyline\",\n",
    "            \"all_points_x\": [59, 59, 85, 85, 103, 102],\n",
    "            \"all_points_y\": [44, 117, 116, 67, 67, 43],\n",
    "        },\n",
    "        \"region_attributes\": {\n",
    "            \"floor_label\": \"K2\",\n",
    "            \"class\": \"床面\",\n",
    "            \"description\": \"K2\",\n",
    "        },\n",
    "    },\n",
    "]\n",
    "\n",
    "# 画像のサイズ\n",
    "image_size = (200, 300)  # これは適宜調整してください\n",
    "\n",
    "# 画像を生成して表示\n",
    "result_image = draw_polygons(image_size, annotations)\n",
    "result_image.show()  # 結果の画像を表示果の画像を表示"
   ]
  },
  {
   "cell_type": "code",
   "execution_count": null,
   "metadata": {},
   "outputs": [],
   "source": [
    "result = {\n",
    "    \"objects\" : [\n",
    "        {\n",
    "            \"label\": \"床面\",\n",
    "            \"polygon\": [[14, 117], [14, 237], [102, 238], [105, 119]],\n",
    "            \"floor_label\": \"洋室6帖\",\n",
    "        },\n",
    "        {\n",
    "            \"label\": \"床面\",\n",
    "            \"polygon\": [[59, 44], [59, 117], [85, 116], [85, 67], [103, 67], [102, 43]],\n",
    "            \"floor_label\": \"K2\",\n",
    "        },\n",
    "    ]\n",
    "}"
   ]
  },
  {
   "cell_type": "code",
   "execution_count": null,
   "metadata": {},
   "outputs": [],
   "source": [
    "from torch.utils.data import Dataset, DataLoader\n",
    "from PIL import Image\n",
    "import os\n",
    "import json\n",
    "\n",
    "class PolyLineDataset(Dataset):\n",
    "    def __init__(\n",
    "            self,\n",
    "            image_dir: str,\n",
    "            annotation_dir: str,\n",
    "            transform=None,\n",
    "        ) -> None:\n",
    "        super().__init__()\n",
    "        self.image_dir = image_dir\n",
    "        self.transform = transform\n",
    "        self.image_paths = [file for file in os.listdir(image_dir) if file.endswith(\".jpg\")]\n",
    "        self.annotation_dir = annotation_dir\n",
    "        self.annotations = [file for file in os.listdir(annotation_dir) if file.endswith(\".json\")]\n",
    "\n",
    "    def __len__(self):\n",
    "        return len(self.image_paths)\n",
    "\n",
    "    def _get_annotation_attr(self, annotation):\n",
    "        pass\n",
    "\n",
    "    def _load_annotation(self, annotation_path):\n",
    "        with open(annotation_path, \"r\") as f:\n",
    "            annotation = json.load(f)\n",
    "        return annotation"
   ]
  }
 ],
 "metadata": {
  "kernelspec": {
   "display_name": "Python 3",
   "language": "python",
   "name": "python3"
  },
  "language_info": {
   "codemirror_mode": {
    "name": "ipython",
    "version": 3
   },
   "file_extension": ".py",
   "mimetype": "text/x-python",
   "name": "python",
   "nbconvert_exporter": "python",
   "pygments_lexer": "ipython3",
   "version": "3.10.12"
  }
 },
 "nbformat": 4,
 "nbformat_minor": 2
}
